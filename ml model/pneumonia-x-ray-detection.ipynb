{
 "cells": [
  {
   "cell_type": "code",
   "execution_count": 1,
   "id": "1a9efbe5",
   "metadata": {
    "_cell_guid": "b1076dfc-b9ad-4769-8c92-a6c4dae69d19",
    "_uuid": "8f2839f25d086af736a60e9eeb907d3b93b6e0e5",
    "execution": {
     "iopub.execute_input": "2023-07-30T19:43:11.225209Z",
     "iopub.status.busy": "2023-07-30T19:43:11.224518Z",
     "iopub.status.idle": "2023-07-30T19:43:11.245224Z",
     "shell.execute_reply": "2023-07-30T19:43:11.244336Z"
    },
    "papermill": {
     "duration": 0.030138,
     "end_time": "2023-07-30T19:43:11.247426",
     "exception": false,
     "start_time": "2023-07-30T19:43:11.217288",
     "status": "completed"
    },
    "tags": []
   },
   "outputs": [],
   "source": [
    "import os\n",
    "directory_path=\"/kaggle/input/chest-xray-pneumonia/chest_xray\"\n",
    "classes = os.listdir(directory_path)\n",
    "image_class=[]\n",
    "for class_name in classes:\n",
    "    class_path = os.path.join(directory_path, class_name)\n",
    "    image_class.append(class_path)"
   ]
  },
  {
   "cell_type": "code",
   "execution_count": 2,
   "id": "c14f660b",
   "metadata": {
    "execution": {
     "iopub.execute_input": "2023-07-30T19:43:11.257020Z",
     "iopub.status.busy": "2023-07-30T19:43:11.256194Z",
     "iopub.status.idle": "2023-07-30T19:43:39.755924Z",
     "shell.execute_reply": "2023-07-30T19:43:39.754852Z"
    },
    "papermill": {
     "duration": 28.50699,
     "end_time": "2023-07-30T19:43:39.758499",
     "exception": false,
     "start_time": "2023-07-30T19:43:11.251509",
     "status": "completed"
    },
    "tags": []
   },
   "outputs": [
    {
     "name": "stderr",
     "output_type": "stream",
     "text": [
      "/opt/conda/lib/python3.10/site-packages/scipy/__init__.py:146: UserWarning: A NumPy version >=1.16.5 and <1.23.0 is required for this version of SciPy (detected version 1.23.5\n",
      "  warnings.warn(f\"A NumPy version >={np_minversion} and <{np_maxversion}\"\n",
      "/opt/conda/lib/python3.10/site-packages/tensorflow_io/python/ops/__init__.py:98: UserWarning: unable to load libtensorflow_io_plugins.so: unable to open file: libtensorflow_io_plugins.so, from paths: ['/opt/conda/lib/python3.10/site-packages/tensorflow_io/python/ops/libtensorflow_io_plugins.so']\n",
      "caused by: ['/opt/conda/lib/python3.10/site-packages/tensorflow_io/python/ops/libtensorflow_io_plugins.so: undefined symbol: _ZN3tsl6StatusC1EN10tensorflow5error4CodeESt17basic_string_viewIcSt11char_traitsIcEENS_14SourceLocationE']\n",
      "  warnings.warn(f\"unable to load libtensorflow_io_plugins.so: {e}\")\n",
      "/opt/conda/lib/python3.10/site-packages/tensorflow_io/python/ops/__init__.py:104: UserWarning: file system plugins are not loaded: unable to open file: libtensorflow_io.so, from paths: ['/opt/conda/lib/python3.10/site-packages/tensorflow_io/python/ops/libtensorflow_io.so']\n",
      "caused by: ['/opt/conda/lib/python3.10/site-packages/tensorflow_io/python/ops/libtensorflow_io.so: undefined symbol: _ZTVN10tensorflow13GcsFileSystemE']\n",
      "  warnings.warn(f\"file system plugins are not loaded: {e}\")\n"
     ]
    },
    {
     "name": "stdout",
     "output_type": "stream",
     "text": [
      "Found 5216 files belonging to 2 classes.\n",
      "Found 624 files belonging to 2 classes.\n",
      "Found 16 files belonging to 2 classes.\n"
     ]
    }
   ],
   "source": [
    "import tensorflow as tf\n",
    "import numpy as np \n",
    "import glob\n",
    "import os\n",
    "import matplotlib.pyplot as plt \n",
    "from tensorflow.keras.utils import image_dataset_from_directory\n",
    "from tensorflow.keras import Sequential , Input, layers , losses , optimizers , Model\n",
    "from keras.preprocessing.image import ImageDataGenerator\n",
    "from tensorflow.keras import regularizers\n",
    "import tensorflow as tf\n",
    "train=image_dataset_from_directory(image_class[4], image_size=(180 , 180),batch_size=64,shuffle=True , label_mode='binary')\n",
    "val=image_dataset_from_directory(image_class[3] , image_size=(180 , 180),batch_size=64,shuffle=True,label_mode='binary')\n",
    "test=image_dataset_from_directory(image_class[2], image_size=(180 , 180),batch_size=64,shuffle=True,label_mode='binary')"
   ]
  },
  {
   "cell_type": "code",
   "execution_count": 3,
   "id": "b0360c62",
   "metadata": {
    "execution": {
     "iopub.execute_input": "2023-07-30T19:43:39.778487Z",
     "iopub.status.busy": "2023-07-30T19:43:39.778168Z",
     "iopub.status.idle": "2023-07-30T19:44:24.091366Z",
     "shell.execute_reply": "2023-07-30T19:44:24.090292Z"
    },
    "papermill": {
     "duration": 44.325905,
     "end_time": "2023-07-30T19:44:24.095033",
     "exception": false,
     "start_time": "2023-07-30T19:43:39.769128",
     "status": "completed"
    },
    "tags": []
   },
   "outputs": [
    {
     "name": "stdout",
     "output_type": "stream",
     "text": [
      "Shape of 'x': (5216, 180, 180, 3)\n",
      "Shape of 'y': (5216, 1)\n"
     ]
    }
   ],
   "source": [
    "import numpy as np\n",
    "\n",
    "# Assuming you have already created the 'train' dataset using the 'image_dataset_from_directory' function\n",
    "\n",
    "# Initialize empty lists to store images and labels\n",
    "x = []\n",
    "y = []\n",
    "\n",
    "# Iterate over the dataset to access images and labels\n",
    "for images, labels in train:\n",
    "    # Append the batch of images to 'x'\n",
    "    x.append(images.numpy())  # Convert to NumPy array for further processing (optional)\n",
    "\n",
    "    # Append the batch of labels to 'y'\n",
    "    y.append(labels.numpy())  # Convert to NumPy array for further processing (optional)\n",
    "\n",
    "# Concatenate the lists to get the full 'x' and 'y' arrays\n",
    "x = np.concatenate(x, axis=0)\n",
    "y = np.concatenate(y, axis=0)\n",
    "\n",
    "# 'x' is now an array containing all the input images with shape (total_samples, image_height, image_width, num_channels)\n",
    "# 'y' is now an array containing all the labels with shape (total_samples,) in binary format\n",
    "\n",
    "# Optionally, you can check the shapes of 'x' and 'y':\n",
    "print(\"Shape of 'x':\", x.shape)\n",
    "print(\"Shape of 'y':\", y.shape)\n"
   ]
  },
  {
   "cell_type": "code",
   "execution_count": 4,
   "id": "d5bce016",
   "metadata": {
    "execution": {
     "iopub.execute_input": "2023-07-30T19:44:24.109599Z",
     "iopub.status.busy": "2023-07-30T19:44:24.109226Z",
     "iopub.status.idle": "2023-07-30T19:44:24.740100Z",
     "shell.execute_reply": "2023-07-30T19:44:24.738962Z"
    },
    "papermill": {
     "duration": 0.641235,
     "end_time": "2023-07-30T19:44:24.742688",
     "exception": false,
     "start_time": "2023-07-30T19:44:24.101453",
     "status": "completed"
    },
    "tags": []
   },
   "outputs": [],
   "source": [
    "x=x/250"
   ]
  },
  {
   "cell_type": "code",
   "execution_count": 5,
   "id": "d8d3ea70",
   "metadata": {
    "execution": {
     "iopub.execute_input": "2023-07-30T19:44:24.754218Z",
     "iopub.status.busy": "2023-07-30T19:44:24.753178Z",
     "iopub.status.idle": "2023-07-30T19:44:26.841318Z",
     "shell.execute_reply": "2023-07-30T19:44:26.840225Z"
    },
    "papermill": {
     "duration": 2.096482,
     "end_time": "2023-07-30T19:44:26.843931",
     "exception": false,
     "start_time": "2023-07-30T19:44:24.747449",
     "status": "completed"
    },
    "tags": []
   },
   "outputs": [],
   "source": [
    "from sklearn.model_selection import train_test_split\n",
    "x_train,x_test,y_train,y_test=train_test_split(x,y)"
   ]
  },
  {
   "cell_type": "code",
   "execution_count": 6,
   "id": "3a0247af",
   "metadata": {
    "execution": {
     "iopub.execute_input": "2023-07-30T19:44:26.854334Z",
     "iopub.status.busy": "2023-07-30T19:44:26.854015Z",
     "iopub.status.idle": "2023-07-30T19:44:26.859494Z",
     "shell.execute_reply": "2023-07-30T19:44:26.858535Z"
    },
    "papermill": {
     "duration": 0.013252,
     "end_time": "2023-07-30T19:44:26.861962",
     "exception": false,
     "start_time": "2023-07-30T19:44:26.848710",
     "status": "completed"
    },
    "tags": []
   },
   "outputs": [
    {
     "name": "stdout",
     "output_type": "stream",
     "text": [
      "Input image shape: (180, 180, 3)\n"
     ]
    }
   ],
   "source": [
    "import numpy as np\n",
    "\n",
    "# Assuming you have already loaded the images into the `x` array\n",
    "# x = np.array(x)\n",
    "\n",
    "# Get the shape of the `x` array\n",
    "image_shape = x[0].shape  # Assuming the images have the same shape, so we get the shape of the first image\n",
    "\n",
    "print(\"Input image shape:\", image_shape)\n"
   ]
  },
  {
   "cell_type": "code",
   "execution_count": 7,
   "id": "acb63482",
   "metadata": {
    "execution": {
     "iopub.execute_input": "2023-07-30T19:44:26.871739Z",
     "iopub.status.busy": "2023-07-30T19:44:26.871446Z",
     "iopub.status.idle": "2023-07-30T19:44:26.879691Z",
     "shell.execute_reply": "2023-07-30T19:44:26.878771Z"
    },
    "papermill": {
     "duration": 0.015618,
     "end_time": "2023-07-30T19:44:26.881815",
     "exception": false,
     "start_time": "2023-07-30T19:44:26.866197",
     "status": "completed"
    },
    "tags": []
   },
   "outputs": [
    {
     "name": "stdout",
     "output_type": "stream",
     "text": [
      "Number of images: 5216\n",
      "Image height: 180\n",
      "Image width: 180\n",
      "Number of channels (e.g., 3 for RGB, 1 for grayscale): 3\n"
     ]
    }
   ],
   "source": [
    "# Get the shape of the `x` array\n",
    "num_images, height, width = x.shape[:3]  # Extracting the first three dimensions\n",
    "\n",
    "# If the images are grayscale, there won't be a fourth dimension (channels)\n",
    "# In that case, set channels to 1\n",
    "channels = 1 if len(x.shape) == 3 else x.shape[3]\n",
    "\n",
    "print(\"Number of images:\", num_images)\n",
    "print(\"Image height:\", height)\n",
    "print(\"Image width:\", width)\n",
    "print(\"Number of channels (e.g., 3 for RGB, 1 for grayscale):\", channels)"
   ]
  },
  {
   "cell_type": "code",
   "execution_count": 8,
   "id": "f3ec213f",
   "metadata": {
    "execution": {
     "iopub.execute_input": "2023-07-30T19:44:26.891868Z",
     "iopub.status.busy": "2023-07-30T19:44:26.891570Z",
     "iopub.status.idle": "2023-07-30T19:44:27.028475Z",
     "shell.execute_reply": "2023-07-30T19:44:27.027511Z"
    },
    "papermill": {
     "duration": 0.144853,
     "end_time": "2023-07-30T19:44:27.031056",
     "exception": false,
     "start_time": "2023-07-30T19:44:26.886203",
     "status": "completed"
    },
    "tags": []
   },
   "outputs": [],
   "source": [
    "from keras.models import Sequential\n",
    "from keras.layers import Conv2D, MaxPooling2D, Flatten, Dense, Dropout\n",
    "from keras.regularizers import l2\n",
    "\n",
    "# Define your CNN model with L2 regularization\n",
    "cnn = Sequential([\n",
    "    Conv2D(32, kernel_size=(5, 5), activation='relu', input_shape=(180, 180, 3),kernel_regularizer=l2(0.01)),\n",
    "    MaxPooling2D((2, 2)),\n",
    "    Conv2D(64, kernel_size=(5, 5), activation='relu'),\n",
    "    MaxPooling2D((2, 2)),\n",
    "    Flatten(),\n",
    "    Dense(64, activation='relu',kernel_regularizer=l2(0.01)),\n",
    "    Dense(7, activation='softmax',kernel_regularizer=l2(0.01))\n",
    "])\n",
    "\n",
    "# Compile the model\n",
    "cnn.compile(optimizer='adam', loss='sparse_categorical_crossentropy', metrics=['accuracy'])\n"
   ]
  },
  {
   "cell_type": "code",
   "execution_count": 9,
   "id": "da1fd14e",
   "metadata": {
    "execution": {
     "iopub.execute_input": "2023-07-30T19:44:27.042617Z",
     "iopub.status.busy": "2023-07-30T19:44:27.040944Z",
     "iopub.status.idle": "2023-07-30T19:46:52.814283Z",
     "shell.execute_reply": "2023-07-30T19:46:52.813099Z"
    },
    "papermill": {
     "duration": 145.781526,
     "end_time": "2023-07-30T19:46:52.817150",
     "exception": false,
     "start_time": "2023-07-30T19:44:27.035624",
     "status": "completed"
    },
    "tags": []
   },
   "outputs": [
    {
     "name": "stdout",
     "output_type": "stream",
     "text": [
      "Epoch 1/20\n",
      "123/123 [==============================] - 21s 44ms/step - loss: 0.8148 - accuracy: 0.8865 - val_loss: 0.4803 - val_accuracy: 0.8911\n",
      "Epoch 2/20\n",
      "123/123 [==============================] - 5s 38ms/step - loss: 0.3421 - accuracy: 0.9353 - val_loss: 0.2715 - val_accuracy: 0.9586\n",
      "Epoch 3/20\n",
      "123/123 [==============================] - 5s 37ms/step - loss: 0.2640 - accuracy: 0.9542 - val_loss: 0.2949 - val_accuracy: 0.9486\n",
      "Epoch 4/20\n",
      "123/123 [==============================] - 5s 37ms/step - loss: 0.2519 - accuracy: 0.9576 - val_loss: 0.2227 - val_accuracy: 0.9663\n",
      "Epoch 5/20\n",
      "123/123 [==============================] - 4s 37ms/step - loss: 0.5817 - accuracy: 0.8995 - val_loss: 0.3779 - val_accuracy: 0.9379\n",
      "Epoch 6/20\n",
      "123/123 [==============================] - 5s 37ms/step - loss: 0.2866 - accuracy: 0.9519 - val_loss: 0.2921 - val_accuracy: 0.9425\n",
      "Epoch 7/20\n",
      "123/123 [==============================] - 5s 37ms/step - loss: 0.2682 - accuracy: 0.9494 - val_loss: 0.2241 - val_accuracy: 0.9578\n",
      "Epoch 8/20\n",
      "123/123 [==============================] - 5s 37ms/step - loss: 0.2354 - accuracy: 0.9578 - val_loss: 0.2549 - val_accuracy: 0.9548\n",
      "Epoch 9/20\n",
      "123/123 [==============================] - 4s 36ms/step - loss: 0.2377 - accuracy: 0.9606 - val_loss: 0.4618 - val_accuracy: 0.8597\n",
      "Epoch 10/20\n",
      "123/123 [==============================] - 4s 36ms/step - loss: 0.2281 - accuracy: 0.9617 - val_loss: 0.2498 - val_accuracy: 0.9486\n",
      "Epoch 11/20\n",
      "123/123 [==============================] - 4s 37ms/step - loss: 0.2061 - accuracy: 0.9650 - val_loss: 0.2226 - val_accuracy: 0.9601\n",
      "Epoch 12/20\n",
      "123/123 [==============================] - 5s 37ms/step - loss: 0.2086 - accuracy: 0.9624 - val_loss: 0.2214 - val_accuracy: 0.9624\n",
      "Epoch 13/20\n",
      "123/123 [==============================] - 4s 35ms/step - loss: 0.2093 - accuracy: 0.9647 - val_loss: 0.4408 - val_accuracy: 0.8765\n",
      "Epoch 14/20\n",
      "123/123 [==============================] - 5s 37ms/step - loss: 0.1898 - accuracy: 0.9716 - val_loss: 0.1905 - val_accuracy: 0.9647\n",
      "Epoch 15/20\n",
      "123/123 [==============================] - 4s 36ms/step - loss: 0.2130 - accuracy: 0.9627 - val_loss: 0.3180 - val_accuracy: 0.9517\n",
      "Epoch 16/20\n",
      "123/123 [==============================] - 5s 37ms/step - loss: 0.2142 - accuracy: 0.9650 - val_loss: 0.2068 - val_accuracy: 0.9632\n",
      "Epoch 17/20\n",
      "123/123 [==============================] - 5s 38ms/step - loss: 0.1818 - accuracy: 0.9716 - val_loss: 0.2109 - val_accuracy: 0.9640\n",
      "Epoch 18/20\n",
      "123/123 [==============================] - 4s 36ms/step - loss: 0.2134 - accuracy: 0.9645 - val_loss: 0.2322 - val_accuracy: 0.9571\n",
      "Epoch 19/20\n",
      "123/123 [==============================] - 5s 37ms/step - loss: 0.1777 - accuracy: 0.9729 - val_loss: 0.2043 - val_accuracy: 0.9609\n",
      "Epoch 20/20\n",
      "123/123 [==============================] - 4s 36ms/step - loss: 0.1645 - accuracy: 0.9744 - val_loss: 0.2107 - val_accuracy: 0.9571\n"
     ]
    }
   ],
   "source": [
    "batch_size = 32\n",
    "epochs = 20\n",
    "history=cnn.fit(x_train, y_train, batch_size=batch_size, epochs=epochs, validation_data=(x_test, y_test))"
   ]
  },
  {
   "cell_type": "code",
   "execution_count": 10,
   "id": "de6f346a",
   "metadata": {
    "execution": {
     "iopub.execute_input": "2023-07-30T19:46:53.021321Z",
     "iopub.status.busy": "2023-07-30T19:46:53.020954Z",
     "iopub.status.idle": "2023-07-30T19:46:53.415768Z",
     "shell.execute_reply": "2023-07-30T19:46:53.414782Z"
    },
    "papermill": {
     "duration": 0.501564,
     "end_time": "2023-07-30T19:46:53.418232",
     "exception": false,
     "start_time": "2023-07-30T19:46:52.916668",
     "status": "completed"
    },
    "tags": []
   },
   "outputs": [
    {
     "data": {
      "image/png": "[encoded data removed]",
      "text/plain": [
       "<Figure size 640x480 with 1 Axes>"
      ]
     },
     "metadata": {},
     "output_type": "display_data"
    }
   ],
   "source": [
    "\n",
    "# Extract the training and validation loss values from the history object\n",
    "train_loss = history.history['loss']\n",
    "val_loss = history.history['val_loss']\n",
    "\n",
    "# Create a list of epoch numbers (1 to number of epochs)\n",
    "epochs = range(1, len(train_loss) + 1)\n",
    "\n",
    "# Plot the loss graph\n",
    "plt.plot(epochs, train_loss, label='Training Loss')\n",
    "plt.plot(epochs, val_loss, label='Validation Loss')\n",
    "plt.title('Training and Validation Loss')\n",
    "plt.xlabel('Epochs')\n",
    "plt.ylabel('Loss')\n",
    "plt.legend()\n",
    "plt.grid(True)\n",
    "plt.show()\n",
    "\n",
    "\n",
    "\n",
    "\n"
   ]
  },
  {
   "cell_type": "code",
   "execution_count": null,
   "id": "16c7502b",
   "metadata": {
    "papermill": {
     "duration": 0.106015,
     "end_time": "2023-07-30T19:46:53.627129",
     "exception": false,
     "start_time": "2023-07-30T19:46:53.521114",
     "status": "completed"
    },
    "tags": []
   },
   "outputs": [],
   "source": []
  }
 ],
 "metadata": {
  "kernelspec": {
   "display_name": "Python 3",
   "language": "python",
   "name": "python3"
  },
  "language_info": {
   "codemirror_mode": {
    "name": "ipython",
    "version": 3
   },
   "file_extension": ".py",
   "mimetype": "text/x-python",
   "name": "python",
   "nbconvert_exporter": "python",
   "pygments_lexer": "ipython3",
   "version": "3.10.12"
  },
  "papermill": {
   "default_parameters": {},
   "duration": 239.956407,
   "end_time": "2023-07-30T19:46:57.484708",
   "environment_variables": {},
   "exception": null,
   "input_path": "__notebook__.ipynb",
   "output_path": "__notebook__.ipynb",
   "parameters": {},
   "start_time": "2023-07-30T19:42:57.528301",
   "version": "2.4.0"
  }
 },
 "nbformat": 4,
 "nbformat_minor": 5
}
